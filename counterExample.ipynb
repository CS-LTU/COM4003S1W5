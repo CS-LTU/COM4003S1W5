{
 "cells": [
  {
   "cell_type": "markdown",
   "metadata": {},
   "source": [
    "This is a simple example of an HTML page with a button and a counter.\n",
    "Each time the button receives a click, the counter increases by one."
   ]
  },
  {
   "cell_type": "markdown",
   "metadata": {},
   "source": [
    "\n",
    "### HTML\n",
    "```html\n",
    "<!DOCTYPE html>\n",
    "<html lang=\"en\">\n",
    "<head>\n",
    "  <meta charset=\"UTF-8\">\n",
    "  <meta http-equiv=\"X-UA-Compatible\" content=\"IE=edge\">\n",
    "  <meta name=\"viewport\" content=\"width=device-width, initial-scale=1.0\">\n",
    "  <title>Counter</title>\n",
    "  <link rel=\"stylesheet\" href=\"styles.css\">\n",
    "</head>\n",
    "<body>\n",
    "  <div class=\"counter-container\">\n",
    "    <div id=\"counter-value\">0</div>\n",
    "    <button onclick=\"incrementCounter()\">Add One</button>\n",
    "  </div>\n",
    "  <script src=\"script.js\"></script>\n",
    "</body>\n",
    "</html>\n",
    "```"
   ]
  },
  {
   "cell_type": "markdown",
   "metadata": {},
   "source": [
    "\n",
    "### CSS (styles.css)\n",
    "```css\n",
    ".counter-container {\n",
    "  text-align: center;\n",
    "  margin-top: 50px;\n",
    "}\n",
    "\n",
    "#counter-value {\n",
    "  font-size: 2em;\n",
    "  margin-bottom: 10px;\n",
    "}\n",
    "\n",
    "button {\n",
    "  padding: 10px 20px;\n",
    "  font-size: 1em;\n",
    "  cursor: pointer;\n",
    "}\n",
    "```\n"
   ]
  },
  {
   "cell_type": "markdown",
   "metadata": {},
   "source": [
    "\n",
    "### JavaScript (script.js)\n",
    "```javascript\n",
    "let counter = 0;\n",
    "\n",
    "function incrementCounter() {\n",
    "  counter += 1;\n",
    "  document.getElementById('counter-value').textContent = counter;\n",
    "}\n",
    "```\n"
   ]
  },
  {
   "cell_type": "markdown",
   "metadata": {},
   "source": [
    "\n",
    "In this example:\n",
    "- The HTML defines the structure, linking the CSS for styling and the JavaScript for functionality.\n",
    "- The CSS provides basic styling to center the text, increase the font size of the counter, and style the button.\n",
    "- The JavaScript defines a `counter` variable and a function `incrementCounter` that increases the counter and updates the displayed value when called. This function is linked to the button's `onclick` event.\n",
    "\n",
    "When you open this HTML page in a browser, you will see a \"0\" and a button labeled \"Add One\". Each time you click the button, the number will increase by one."
   ]
  }
 ],
 "metadata": {
  "language_info": {
   "name": "python"
  }
 },
 "nbformat": 4,
 "nbformat_minor": 2
}
